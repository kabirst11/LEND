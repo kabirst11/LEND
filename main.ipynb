{
 "cells": [
  {
   "cell_type": "code",
   "execution_count": 1,
   "id": "4816dab9",
   "metadata": {},
   "outputs": [],
   "source": [
    "%run DensityPeakEstimation.ipynb"
   ]
  },
  {
   "cell_type": "code",
   "execution_count": 2,
   "id": "5ae34f11",
   "metadata": {},
   "outputs": [],
   "source": [
    "mat_data = scipy.io.loadmat('SalinasA.mat')\n",
    "data = mat_data[\"salinasA\"]\n",
    "x, y, z = data.shape\n",
    "salinasA = data.reshape((x*y, z))\n",
    "norms = np.linalg.norm(salinasA, axis=1)\n",
    "# Normalize each pixel vector by dividing by its norm\n",
    "salinasA = salinasA / norms[:, np.newaxis]\n",
    "mat_data_gt = scipy.io.loadmat('SalinasA_gt.mat')\n",
    "gt = mat_data_gt[\"salinasA_gt\"]\n",
    "gt = gt.reshape(-1)"
   ]
  },
  {
   "cell_type": "code",
   "execution_count": 3,
   "id": "3c83df6e",
   "metadata": {},
   "outputs": [],
   "source": [
    "def land(X, K, GT, B, t):\n",
    "    \n",
    "    n = X.shape[0]\n",
    "    Labels = np.zeros(n)\n",
    "    \n",
    "    Adj = make_adjacency(X, K)\n",
    "    kernel = gaussian_kernel(Adj)\n",
    "    diffusion = diffusion_map(kernel)\n",
    "    \n",
    "    \n",
    "    Embed = embed(diffusion, t)\n",
    "    embedding = Embed[0]\n",
    "    PWDiffDist = diffusion_dist(embedding)\n",
    "    PWdist = cdist(X, X)\n",
    "    Delta_Density, Density_, Delta_ = find_density_peaks(X, K, PWdist, PWDiffDist)\n",
    "    centers = density_peaks_estimation(Delta_Density, B)\n",
    "    \n",
    "    total_c = []\n",
    "    \n",
    "    t = B\n",
    "    it = 0\n",
    "    while t > 0:\n",
    "        \n",
    "        while GT[centers[it]] == 0:\n",
    "            it += 1\n",
    "        \n",
    "            #print(centers[it])\n",
    "        Labels[centers[it]] = GT[centers[it]] + 1 \n",
    "        #print(centers[it])\n",
    "        total_c.append(centers[it])\n",
    "        t-=1\n",
    "        it += 1\n",
    "    print(np.where(Labels != 0))\n",
    "    \n",
    "    \n",
    "    # Sort points by density\n",
    "    siD = sorted(enumerate(Density_), key=lambda x: x[1], reverse=True)\n",
    "    \n",
    "    idx = np.array([int(index) for index, _ in siD])\n",
    "\n",
    "    \n",
    "    # Label highest density point if necessary\n",
    "    \n",
    "    if Labels[idx[0]] == 0:\n",
    "        Labels[idx[0]] = GT[idx[0]] + 1\n",
    "    \n",
    "    \n",
    "    # First pass\n",
    "    row_max = np.max(diffusion, axis=1)\n",
    "\n",
    "    for j in range(n):\n",
    "        if Labels[idx[j]] == 0:\n",
    "            NN = np.argmin(PWDiffDist[idx[j], idx[:j]])\n",
    "            Labels[idx[j]] = Labels[idx[NN]]\n",
    "    print(set(total_c))\n",
    "    print(len(set(total_c)))\n",
    "    return Labels"
   ]
  },
  {
   "cell_type": "code",
   "execution_count": 4,
   "id": "2fd04e6d",
   "metadata": {},
   "outputs": [],
   "source": [
    "def lend(X, K, GT, B, t, J, alpha):\n",
    "    \n",
    "    n = X.shape[0]\n",
    "    Labels = np.zeros(n)\n",
    "    Adj = make_adjacency(X, K)\n",
    "    kernel = gaussian_kernel(Adj)\n",
    "    diffusion = diffusion_map(kernel)\n",
    "    Embed = embed(diffusion, t)\n",
    "    embedding = Embed[0]\n",
    "    PWdist = cdist(X, X)\n",
    "    PWDiffDist = diffusion_dist(embedding)\n",
    "    Delta_Density, Density_, Delta_ = find_density_peaks(X, K, PWdist, PWDiffDist)\n",
    "    \n",
    "    total_c = []\n",
    "    for iter in range(J):\n",
    "        \n",
    "        Labels = np.zeros(n)\n",
    "       \n",
    "        Embed = embed(diffusion, t)\n",
    "        embedding = Embed[0]\n",
    "        PWDiffDist = diffusion_dist(embedding)\n",
    "        \n",
    "        Delta_Density, Density_, Delta_ = find_density_peaks(X, K, PWdist, PWDiffDist, Density_)\n",
    "        centers = density_peaks_estimation(Delta_Density, B - (2 - iter))\n",
    "        \n",
    "        t = B - ( (J-1) - iter)\n",
    "        it = 0\n",
    "        while t > 0:\n",
    "            while GT[centers[it]] == 0:\n",
    "                it += 1\n",
    "            Labels[centers[it]] = GT[centers[it]] + 1 #+1 to ensure unlabeled points have value of 0\n",
    "            #print(centers[it])\n",
    "            total_c.append(centers[it])\n",
    "            t-=1\n",
    "            it += 1\n",
    "        \n",
    "        # Sort points by density\n",
    "        siD = sorted(enumerate(Density_), key=lambda x: x[1], reverse=True)\n",
    "        # Extracting just the indices and converting to NumPy array\n",
    "        idx = np.array([int(index) for index, _ in siD])\n",
    "        # Label highest density point if necessary\n",
    "        if Labels[idx[0]] == 0:\n",
    "            Labels[idx[0]] = GT[idx[0]] + 1\n",
    "        # First pass\n",
    "        row_max = np.max(diffusion, axis=1)\n",
    "        for j in range(n):\n",
    "            if Labels[idx[j]] == 0:\n",
    "                NN = np.argmin(PWDiffDist[idx[j], idx[:j]])\n",
    "                Labels[idx[j]] = Labels[idx[NN]]\n",
    "        mask = Labels[:, None] == Labels  # Create a mask where labels are equal\n",
    "        #mask[mask == 0] = alpha\n",
    "        #diffusion *= mask\n",
    "        diffusion_u = diffusion* mask  # Element-wise multiplication to set non-equal label positions to 0\n",
    "        diffusion = (diffusion_u + diffusion) /2\n",
    "        row_sums = diffusion.sum(axis=1)\n",
    "        diffusion = diffusion / row_sums[:, np.newaxis]\n",
    "        \n",
    "    print(len(set(total_c)))\n",
    "    print(set(total_c))\n",
    "    return Labels\n",
    "    "
   ]
  },
  {
   "cell_type": "code",
   "execution_count": 5,
   "id": "2de40010-dbf8-45b0-8252-08c54985afb0",
   "metadata": {},
   "outputs": [
    {
     "name": "stdout",
     "output_type": "stream",
     "text": [
      "1\n",
      "0.55\n",
      "K 500\n",
      "(array([  26,  310,  396,  482, 1600, 1686, 2224, 2310, 3509, 3595, 3802,\n",
      "       6081]),)\n",
      "{1600, 6081, 482, 26, 2310, 3595, 396, 2224, 3509, 310, 1686, 3802}\n",
      "12\n"
     ]
    }
   ],
   "source": [
    "'''\n",
    "Example usage:\n",
    "Fill in with desired params, adjust for +1 in labeling, then calculate accuracy over nonzero labels.\n",
    "'''\n",
    "LAND = land(salinasA, 100, gt, 12, 30)"
   ]
  },
  {
   "cell_type": "code",
   "execution_count": 6,
   "id": "9429bc89-5695-40d8-aeae-94f7a0f93a05",
   "metadata": {},
   "outputs": [],
   "source": [
    "LAND -=1"
   ]
  },
  {
   "cell_type": "code",
   "execution_count": 7,
   "id": "ee8e1ff1-322a-4177-a1a1-96ac0dd39898",
   "metadata": {},
   "outputs": [],
   "source": [
    "\n",
    "mask = gt != 0\n",
    "    # Calculate the difference only where the mask is True\n",
    "difference = LAND[mask] != gt[mask]\n",
    "    # Calculate the desired value\n",
    "result = 1 - np.sum(difference) / np.sum(mask)"
   ]
  },
  {
   "cell_type": "code",
   "execution_count": 8,
   "id": "220b1d5f-be33-4402-9c56-2e96b761c191",
   "metadata": {},
   "outputs": [
    {
     "data": {
      "text/plain": [
       "\"\\nimport matplotlib.pyplot as plt\\nimport numpy as np\\nfrom matplotlib.colors import ListedColormap, BoundaryNorm\\n\\n# Define your matrix (replace this with your actual matrix data)\\n# matrix1 = np.array(...)  # Replace with your actual matrix\\n\\n# Define the exact colors for each value: 0, 1, 10, 11, 12, 13, 14\\ncolors = ['black', 'blue', 'green', 'red', 'purple', 'orange', 'yellow']  # Matches values in order\\ncmap = ListedColormap(colors)\\n\\n# Set boundaries explicitly for the matrix values 0, 1, 10, 11, 12, 13, 14\\nbounds = [0, 1, 10, 11, 12, 13, 14, 15]  # Add 15 as an upper bound for correct mapping\\nnorm = BoundaryNorm(bounds, cmap.N)\\n\\n# Plot the matrix with the correct colormap and normalization\\nplt.imshow(gt.reshape(83, 86), cmap=cmap, norm=norm)\\nplt.show()\\n\""
      ]
     },
     "execution_count": 8,
     "metadata": {},
     "output_type": "execute_result"
    }
   ],
   "source": [
    "'''\n",
    "import matplotlib.pyplot as plt\n",
    "import numpy as np\n",
    "from matplotlib.colors import ListedColormap, BoundaryNorm\n",
    "\n",
    "# Define your matrix (replace this with your actual matrix data)\n",
    "# matrix1 = np.array(...)  # Replace with your actual matrix\n",
    "\n",
    "# Define the exact colors for each value: 0, 1, 10, 11, 12, 13, 14\n",
    "colors = ['black', 'blue', 'green', 'red', 'purple', 'orange', 'yellow']  # Matches values in order\n",
    "cmap = ListedColormap(colors)\n",
    "\n",
    "# Set boundaries explicitly for the matrix values 0, 1, 10, 11, 12, 13, 14\n",
    "bounds = [0, 1, 10, 11, 12, 13, 14, 15]  # Add 15 as an upper bound for correct mapping\n",
    "norm = BoundaryNorm(bounds, cmap.N)\n",
    "\n",
    "# Plot the matrix with the correct colormap and normalization\n",
    "plt.imshow(gt.reshape(83, 86), cmap=cmap, norm=norm)\n",
    "plt.show()\n",
    "'''"
   ]
  },
  {
   "cell_type": "code",
   "execution_count": 11,
   "id": "4cd14fc3-fcb8-4916-875b-c8e91e7082b0",
   "metadata": {},
   "outputs": [],
   "source": [
    "mask = gt.reshape(83, 86) != 0"
   ]
  },
  {
   "cell_type": "code",
   "execution_count": 13,
   "id": "3b8233e7-f229-4684-9720-7e8b2f546633",
   "metadata": {},
   "outputs": [
    {
     "name": "stdout",
     "output_type": "stream",
     "text": [
      "1\n",
      "0.55\n",
      "K 500\n",
      "0.55\n",
      "K 500\n",
      "0.55\n",
      "K 500\n",
      "0.55\n",
      "K 500\n",
      "12\n",
      "{1600, 6081, 482, 26, 2310, 3595, 396, 2224, 3509, 310, 1686, 3802}\n"
     ]
    }
   ],
   "source": [
    "'''\n",
    "Example usage of LEND, returns all query points\n",
    "'''\n",
    "LEND = lend(salinasA, 100, gt, 12, 30, 3, .75)"
   ]
  },
  {
   "cell_type": "code",
   "execution_count": 14,
   "id": "253e026e-ed32-4229-bc0b-6e15eb99242d",
   "metadata": {},
   "outputs": [],
   "source": [
    "LEND -= 1"
   ]
  },
  {
   "cell_type": "code",
   "execution_count": 15,
   "id": "89acf735-6213-4652-bf95-0b124e041765",
   "metadata": {},
   "outputs": [],
   "source": [
    "mask = gt != 0\n",
    "    # Calculate the difference only where the mask is True\n",
    "difference = LEND[mask] != gt[mask]\n",
    "    # Calculate the desired value\n",
    "result = 1 - np.sum(difference) / np.sum(mask)"
   ]
  },
  {
   "cell_type": "code",
   "execution_count": 16,
   "id": "031780a5-1bff-4870-b6b1-c67ace0e35ed",
   "metadata": {},
   "outputs": [
    {
     "data": {
      "text/plain": [
       "0.9659685863874345"
      ]
     },
     "execution_count": 16,
     "metadata": {},
     "output_type": "execute_result"
    }
   ],
   "source": [
    "result"
   ]
  },
  {
   "cell_type": "code",
   "execution_count": 17,
   "id": "c297f44c-3705-4a0c-8b99-08f9f39c8938",
   "metadata": {},
   "outputs": [],
   "source": [
    "value_map = {0: 0, 1: 1, 10: 2, 11: 3, 12: 4, 13: 5, 14: 6}\n",
    "\n",
    "# Create a vectorized function to apply the mapping\n",
    "vectorized_map = np.vectorize(value_map.get)\n",
    "\n",
    "# Apply the mapping to the matrix\n",
    "mapped_matrix = vectorized_map(LAND.reshape(83, 86))\n",
    "map_gt = vectorized_map(gt.reshape(83, 86))\n",
    "map_lend = vectorized_map(LEND.reshape(83, 86))"
   ]
  },
  {
   "cell_type": "code",
   "execution_count": 18,
   "id": "ac17f4b1-92b1-48df-afea-0b5fda0ce6cb",
   "metadata": {},
   "outputs": [
    {
     "data": {
      "text/plain": [
       "Text(0.5, 1.0, 'SalinasA Ground Truth Data')"
      ]
     },
     "execution_count": 18,
     "metadata": {},
     "output_type": "execute_result"
    },
    {
     "data": {
      "image/png": "[encoded data removed]",
      "text/plain": [
       "<Figure size 640x480 with 1 Axes>"
      ]
     },
     "metadata": {},
     "output_type": "display_data"
    }
   ],
   "source": [
    "plt.imshow(map_gt)\n",
    "plt.title(\"SalinasA Ground Truth Data\")"
   ]
  },
  {
   "cell_type": "code",
   "execution_count": 20,
   "id": "59a0ab2f-dc45-4eb4-be66-e498b322fbc1",
   "metadata": {},
   "outputs": [
    {
     "data": {
      "text/plain": [
       "Text(0.5, 1.0, 'LAND on SalinasA, Budget = 12')"
      ]
     },
     "execution_count": 20,
     "metadata": {},
     "output_type": "execute_result"
    },
    {
     "data": {
      "image/png": "[encoded data removed]",
      "text/plain": [
       "<Figure size 640x480 with 1 Axes>"
      ]
     },
     "metadata": {},
     "output_type": "display_data"
    }
   ],
   "source": [
    "plt.imshow(mapped_matrix * mask.reshape(83, 86))\n",
    "plt.title(\"LAND on SalinasA, Budget = 12\")"
   ]
  },
  {
   "cell_type": "code",
   "execution_count": 21,
   "id": "61aab0b8-6f5d-4fe8-b3e0-da07205dcfab",
   "metadata": {},
   "outputs": [
    {
     "data": {
      "text/plain": [
       "Text(0.5, 1.0, 'LEND on SalinasA, Budget = 12')"
      ]
     },
     "execution_count": 21,
     "metadata": {},
     "output_type": "execute_result"
    },
    {
     "data": {
      "image/png": "[encoded data removed]",
      "text/plain": [
       "<Figure size 640x480 with 1 Axes>"
      ]
     },
     "metadata": {},
     "output_type": "display_data"
    }
   ],
   "source": [
    "plt.imshow(map_lend*mask.reshape(83, 86))\n",
    "plt.title(\"LEND on SalinasA, Budget = 12\")"
   ]
  },
  {
   "cell_type": "code",
   "execution_count": null,
   "id": "b0a3b493-2272-478e-bc4b-6765ccc51cce",
   "metadata": {},
   "outputs": [],
   "source": []
  }
 ],
 "metadata": {
  "kernelspec": {
   "display_name": "Python 3 (ipykernel)",
   "language": "python",
   "name": "python3"
  },
  "language_info": {
   "codemirror_mode": {
    "name": "ipython",
    "version": 3
   },
   "file_extension": ".py",
   "mimetype": "text/x-python",
   "name": "python",
   "nbconvert_exporter": "python",
   "pygments_lexer": "ipython3",
   "version": "3.11.5"
  }
 },
 "nbformat": 4,
 "nbformat_minor": 5
}
